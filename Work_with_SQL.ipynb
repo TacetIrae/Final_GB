{
  "nbformat": 4,
  "nbformat_minor": 0,
  "metadata": {
    "colab": {
      "provenance": [],
      "authorship_tag": "ABX9TyNfdQytMHirYfesM+urkbX8",
      "include_colab_link": true
    },
    "kernelspec": {
      "name": "python3",
      "display_name": "Python 3"
    },
    "language_info": {
      "name": "python"
    }
  },
  "cells": [
    {
      "cell_type": "markdown",
      "metadata": {
        "id": "view-in-github",
        "colab_type": "text"
      },
      "source": [
        "<a href=\"https://colab.research.google.com/github/TacetIrae/Final_GB/blob/main/Work_with_SQL.ipynb\" target=\"_parent\"><img src=\"https://colab.research.google.com/assets/colab-badge.svg\" alt=\"Open In Colab\"/></a>"
      ]
    },
    {
      "cell_type": "markdown",
      "source": [],
      "metadata": {
        "id": "qkaXA9244kyq"
      }
    },
    {
      "cell_type": "code",
      "source": [
        "# Создание файлов с названиями животных\n",
        "with open(\"House_animals.txt\", \"w\") as f:\n",
        "    f.write(\"Dogs\\nCats\\nHamster\")\n",
        "\n",
        "with open(\"Non_house_animals.txt\", \"w\") as f:\n",
        "    f.write(\"Horse\\nCamels\\nDonkey\")"
      ],
      "metadata": {
        "id": "9lyoQ37yQBv9"
      },
      "execution_count": null,
      "outputs": []
    },
    {
      "cell_type": "code",
      "source": [
        "import sqlite3\n",
        "\n",
        "# Создаем соединение с базой данных\n",
        "conn = sqlite3.connect('Друзья человека.db')\n",
        "\n",
        "c = conn.cursor()\n",
        "\n",
        "# Создаем таблицу \"Виды животных\"\n",
        "c.execute(\"\"\"\n",
        "CREATE TABLE IF NOT EXISTS Виды_животных (\n",
        "    id INTEGER PRIMARY KEY AUTOINCREMENT,\n",
        "    вид TEXT NOT NULL,\n",
        "    тип TEXT NOT NULL\n",
        ");\n",
        "\"\"\")\n",
        "\n",
        "# Создаем таблицу \"Животные\"\n",
        "c.execute(\"\"\"\n",
        "CREATE TABLE IF NOT EXISTS Животные (\n",
        "    id INTEGER PRIMARY KEY AUTOINCREMENT,\n",
        "    вид TEXT NOT NULL,\n",
        "    кличка TEXT NOT NULL,\n",
        "    дата_рождения DATE NOT NULL,\n",
        "    команда TEXT,\n",
        "    возраст INTEGER\n",
        ");\n",
        "\"\"\")\n",
        "\n",
        "# Заполняем таблицу \"Виды животных\"\n",
        "c.executemany(\"\"\"\n",
        "INSERT INTO Виды_животных (вид, тип)\n",
        "VALUES (?, ?)\n",
        "\"\"\", [\n",
        "    (\"Собака\", \"Домашнее\"),\n",
        "    (\"Кошка\", \"Домашнее\"),\n",
        "    (\"Хомяк\", \"Домашнее\"),\n",
        "    (\"Лошадь\", \"Вьючное\"),\n",
        "    (\"Верблюд\", \"Вьючное\"),\n",
        "    (\"Осел\", \"Вьючное\"),\n",
        "])\n",
        "\n",
        "# Заполняем таблицу \"Животные\"\n",
        "c.executemany(\"\"\"\n",
        "INSERT INTO Животные (вид, кличка, дата_рождения, команда)\n",
        "VALUES (?, ?, ?, ?)\n",
        "\"\"\", [\n",
        "    (\"Собака\", \"Бобик\", \"2022-01-01\", \"Сидеть\"),\n",
        "    (\"Собака\", \"Мурка\", \"2021-05-05\", \"Лежать\"),\n",
        "    (\"Кошка\", \"Хомка\", \"2023-03-03\", \"Крутиться\"),\n",
        "    (\"Лошадь\", \"Гнедой\", \"2020-10-10\", \"Иго-го\"),\n",
        "    (\"Верблюд\", \"Вьюрок\", \"2019-12-12\", \"Стоять\"),\n",
        "    (\"Осел\", \"Серый\", \"2022-02-02\", \"Шагом\"),\n",
        "])\n",
        "\n",
        "conn.commit()\n",
        "conn.close()\n",
        "\n"
      ],
      "metadata": {
        "id": "6Hc0fqEI5xpt"
      },
      "execution_count": 118,
      "outputs": []
    },
    {
      "cell_type": "code",
      "source": [
        "conn = sqlite3.connect('Друзья человека.db')\n",
        "c = conn.cursor()\n",
        "\n",
        "# Удаляем верблюдов из таблицы \"Животные\"\n",
        "c.execute(\"\"\"\n",
        "DELETE FROM Животные\n",
        "WHERE вид = (SELECT вид FROM Виды_животных WHERE вид = 'Верблюд');\n",
        "\"\"\")\n",
        "\n",
        "conn.commit()\n",
        "conn.close()\n",
        "\n",
        "\n"
      ],
      "metadata": {
        "id": "PhIe2OFo6gea"
      },
      "execution_count": 120,
      "outputs": []
    },
    {
      "cell_type": "code",
      "source": [
        "conn = sqlite3.connect('Друзья человека.db')\n",
        "c = conn.cursor()\n",
        "\n",
        "# Создаем \"Молодые животные\"\n",
        "c.execute(\"\"\"\n",
        "CREATE TABLE IF NOT EXISTS Молодые_животные (\n",
        "    id INTEGER PRIMARY KEY AUTOINCREMENT,\n",
        "    животное_id INTEGER NOT NULL,\n",
        "    возраст INTEGER NOT NULL\n",
        ");\n",
        "\"\"\")\n",
        "\n",
        "# Переносим молодых животных в новую таблицу\n",
        "c.execute(\"\"\"\n",
        "INSERT INTO Молодые_животные (животное_id, возраст)\n",
        "SELECT id, (julianday('now') - julianday(дата_рождения))/365.25\n",
        "FROM Животные\n",
        "WHERE (julianday('now') - julianday(дата_рождения))/365.25 > 1\n",
        "AND (julianday('now') - julianday(дата_рождения))/365.25 < 3;\n",
        "\"\"\")\n",
        "\n",
        "\n",
        "# Обновляем возраст животных\n",
        "c.execute(\"\"\"\n",
        "UPDATE Животные\n",
        "SET возраст = (julianday('now') - julianday(дата_рождения))/365.25;\n",
        "\"\"\")\n",
        "\n",
        "conn.commit()\n",
        "conn.close()\n",
        "\n",
        "\n"
      ],
      "metadata": {
        "id": "pzqvdUwm6uyz"
      },
      "execution_count": 119,
      "outputs": []
    },
    {
      "cell_type": "markdown",
      "source": [
        "А здесь вообще понять не могу, что не так. Сколько не исправляю, сколько не меняю, все одна ошибка. Может тенельное зрение, но хоть убейте, не могу найти проблемы."
      ],
      "metadata": {
        "id": "P67GknrhcWBb"
      }
    },
    {
      "cell_type": "code",
      "source": [
        "conn = sqlite3.connect('Друзья человека.db')\n",
        "c = conn.cursor()\n",
        "\n",
        "# Создаем \"Объединенная_таблица\"\n",
        "c.execute(\"\"\"\n",
        "CREATE TABLE IF NOT EXISTS Объединенная_таблица (\n",
        "    id INTEGER PRIMARY KEY AUTOINCREMENT,\n",
        "    кличка TEXT NOT NULL,\n",
        "    вид INTEGER NOT NULL,\n",
        "    дата_рождения DATE NOT NULL,\n",
        "    команда TEXT,\n",
        "    возраст INTEGER,\n",
        "    предыдущая_таблица TEXT\n",
        ");\n",
        "\"\"\")\n",
        "\n",
        "# Объединяем таблицы\n",
        "c.execute(\"\"\"\n",
        "INSERT INTO Объединенная_таблица (кличка, вид, дата_рождения, команда, предыдущая_таблица)\n",
        "SELECT кличка, вид, дата_рождения, команда, 'Животные'\n",
        "FROM Животные;\"\"\")\n",
        "\n",
        "\n",
        "c.execute(\"\"\"\n",
        "INSERT INTO Объединенная_таблица ( возраст, предыдущая_таблица)\n",
        "SELECT возраст, 'Молодые_животные'\n",
        "FROM Молодые_животные;\n",
        "\"\"\")\n",
        "\n",
        "# Удаляем старые таблицы\n",
        "c.execute(\"\"\"\n",
        "DROP TABLE Животные;\n",
        "\"\"\")\n",
        "c.execute(\"\"\"\n",
        "DROP TABLE Молодые_животные;\n",
        "\"\"\")\n",
        "\n",
        "conn.commit()\n",
        "conn.close()\n",
        "\n"
      ],
      "metadata": {
        "colab": {
          "base_uri": "https://localhost:8080/",
          "height": 245
        },
        "id": "ZbFOz8lqNCZ_",
        "outputId": "90229cc3-8693-4208-c468-45568a086ed5"
      },
      "execution_count": 123,
      "outputs": [
        {
          "output_type": "error",
          "ename": "IntegrityError",
          "evalue": "NOT NULL constraint failed: Объединенная_таблица.кличка",
          "traceback": [
            "\u001b[0;31m---------------------------------------------------------------------------\u001b[0m",
            "\u001b[0;31mIntegrityError\u001b[0m                            Traceback (most recent call last)",
            "\u001b[0;32m<ipython-input-123-2366fbb38712>\u001b[0m in \u001b[0;36m<cell line: 24>\u001b[0;34m()\u001b[0m\n\u001b[1;32m     22\u001b[0m \u001b[0;34m\u001b[0m\u001b[0m\n\u001b[1;32m     23\u001b[0m \u001b[0;34m\u001b[0m\u001b[0m\n\u001b[0;32m---> 24\u001b[0;31m c.execute(\"\"\"\n\u001b[0m\u001b[1;32m     25\u001b[0m \u001b[0mINSERT\u001b[0m \u001b[0mINTO\u001b[0m \u001b[0mОбъединенная_таблица\u001b[0m \u001b[0;34m(\u001b[0m \u001b[0mвозраст\u001b[0m\u001b[0;34m,\u001b[0m \u001b[0mпредыдущая_таблица\u001b[0m\u001b[0;34m)\u001b[0m\u001b[0;34m\u001b[0m\u001b[0;34m\u001b[0m\u001b[0m\n\u001b[1;32m     26\u001b[0m \u001b[0mSELECT\u001b[0m \u001b[0mвозраст\u001b[0m\u001b[0;34m,\u001b[0m \u001b[0;34m'Молодые_животные'\u001b[0m\u001b[0;34m\u001b[0m\u001b[0;34m\u001b[0m\u001b[0m\n",
            "\u001b[0;31mIntegrityError\u001b[0m: NOT NULL constraint failed: Объединенная_таблица.кличка"
          ]
        }
      ]
    },
    {
      "cell_type": "markdown",
      "source": [
        "Дальше уже не сильно и рабочий код"
      ],
      "metadata": {
        "id": "cjCaUc5_Yk10"
      }
    },
    {
      "cell_type": "code",
      "source": [
        "class Animal:\n",
        "    def __init__(self, кличка, вид, тип, дата_рождения, команда):\n",
        "        self.name = кличка\n",
        "        self.species = вид\n",
        "        self.type = тип\n",
        "        self.birthday = дата_рождения\n",
        "        self.command = команда\n",
        "\n",
        "    def get_age(self):\n",
        "        return (datetime.now() - self.birthday).days / 365.25\n",
        "\n",
        "    def learn_command(self, new_command):\n",
        "        self.command = new_command\n",
        "\n",
        "class DomesticAnimal(Animal):\n",
        "    def __init__(self, name, species, birthday, command):\n",
        "        super().__init__(name, species, \"Домашнее\", birthday, command)\n",
        "\n",
        "class PackAnimal(Animal):\n",
        "    def __init__(self, name, species, birthday, command):\n",
        "        super().__init__(name, species, \"Вьючное\", birthday, command)\n"
      ],
      "metadata": {
        "id": "Zvh2hchgNEsM"
      },
      "execution_count": null,
      "outputs": []
    },
    {
      "cell_type": "markdown",
      "source": [
        "Не поличается совместить с прошлой БД. Пока не сильно понимаю что именно сделать, чтобы все заработало."
      ],
      "metadata": {
        "id": "75R2cgrpW_Y2"
      }
    },
    {
      "cell_type": "code",
      "source": [
        "class AnimalRegistry:\n",
        "    def __init__(self):\n",
        "        self.animals = []\n",
        "\n",
        "    def add_animal(self, animal):\n",
        "        self.animals.append(animal)\n",
        "\n",
        "    def get_animals_by_type(self, animal_type):\n",
        "        return [animal for animal in self.animals if animal.type == animal_type]\n",
        "\n",
        "    def get_animal_by_name(self, name):\n",
        "        return next((animal for animal in self.animals if animal.name == name), None)\n",
        "\n",
        "    def print_all_animals(self):\n",
        "        for animal in self.animals:\n",
        "            print(f\"{animal.name} ({animal.species}) - {animal.command}\")\n",
        "\n",
        "    def print_menu():\n",
        "        while True:\n",
        "            print(\"-\" * 20)\n",
        "            print(\"Реестр домашних животных\")\n",
        "            print(\"-\" * 20)\n",
        "            print(\"1. Добавить новое животное\")\n",
        "            print(\"2. Показать всех животных\")\n",
        "            print(\"3. Найти животное по имени\")\n",
        "            print(\"4. Обучить животное команде\")\n",
        "            print(\"0. Выход\")\n",
        "            print(\"-\" * 20)\n",
        "\n",
        "            choice = input(\"Введите номер пункта меню: \")\n",
        "\n",
        "            if choice == \"1\":\n",
        "                self.add_animal()\n",
        "            elif choice == \"2\":\n",
        "                self.print_all_animals()\n",
        "            elif choice == \"3\":\n",
        "                name = input(\"Введите имя животного: \")\n",
        "                animal = self.get_animal_by_name(name)\n",
        "                if animal:\n",
        "                    print(f\"{animal.name} ({animal.species}) - {animal.command}\")\n",
        "                else:\n",
        "                    print(f\"Животное с именем '{name}' не найдено.\")\n",
        "            elif choice == \"4\":\n",
        "                name = input(\"Введите имя животного: \")\n",
        "                new_command = input(\"Введите новую команду: \")\n",
        "                animal = self.get_animal_by_name(name)\n",
        "                if animal:\n",
        "                    animal.learn_command(new_command)\n",
        "                    print(f\"Животное '{name}' теперь умеет выполнять {new_command}\")\n",
        "                else:\n",
        "                    print(f\"Животное с именем '{name}' не найдено.\")\n",
        "\n",
        "\n",
        "\n",
        "\n"
      ],
      "metadata": {
        "id": "HOUQTro0M_R-"
      },
      "execution_count": null,
      "outputs": []
    },
    {
      "cell_type": "code",
      "execution_count": null,
      "metadata": {
        "colab": {
          "base_uri": "https://localhost:8080/"
        },
        "id": "g4jZPTj94j8Z",
        "outputId": "789ddcf0-833e-4280-a246-c280f63306cf"
      },
      "outputs": [
        {
          "output_type": "stream",
          "name": "stdout",
          "text": [
            "Заводим новое животное...\n",
            "Новое животное успешно зарегистрировано! (Всего: 1)\n",
            "Барсик (Кошка) - Лежать\n"
          ]
        }
      ],
      "source": [
        "class AnimalCounter:\n",
        "    def __init__(self):\n",
        "        self.count = 0\n",
        "\n",
        "    def __enter__(self):\n",
        "        print(\"Заводим новое животное...\")\n",
        "        self.count += 1\n",
        "        return self\n",
        "\n",
        "    def __exit__(self, exc_type, exc_value, exc_traceback):\n",
        "        if exc_type is not None:\n",
        "            print(f\"Ошибка при заведении животного: {exc_value}\")\n",
        "        else:\n",
        "            print(f\"Новое животное успешно зарегистрировано! (Всего: {self.count})\")\n",
        "\n",
        "\n",
        "registry = AnimalRegistry()\n",
        "\n",
        "with AnimalCounter() as counter:\n",
        "    # Добавить новое животное\n",
        "    registry.add_animal(DomesticAnimal(\"Барсик\", \"Кошка\", \"2023-07-07\", \"Лежать\"))\n",
        "\n",
        "# Вывести список всех животных\n",
        "registry.print_all_animals()\n"
      ]
    },
    {
      "cell_type": "code",
      "source": [],
      "metadata": {
        "colab": {
          "base_uri": "https://localhost:8080/",
          "height": 487
        },
        "id": "FmnRDZ-tTCJy",
        "outputId": "c33f1cda-de1d-4c2e-f8cf-c856d3e2153d"
      },
      "execution_count": null,
      "outputs": [
        {
          "name": "stdout",
          "output_type": "stream",
          "text": [
            "--------------------\n",
            "Реестр домашних животных\n",
            "--------------------\n",
            "1. Добавить новое животное\n",
            "2. Показать всех животных\n",
            "3. Найти животное по имени\n",
            "4. Обучить животное команде\n",
            "0. Выход\n",
            "--------------------\n",
            "Введите номер пункта меню: 1\n"
          ]
        },
        {
          "output_type": "error",
          "ename": "NameError",
          "evalue": "name 'self' is not defined",
          "traceback": [
            "\u001b[0;31m---------------------------------------------------------------------------\u001b[0m",
            "\u001b[0;31mNameError\u001b[0m                                 Traceback (most recent call last)",
            "\u001b[0;32m<ipython-input-67-8378bfd2c76c>\u001b[0m in \u001b[0;36m<cell line: 1>\u001b[0;34m()\u001b[0m\n\u001b[0;32m----> 1\u001b[0;31m \u001b[0mAnimalRegistry\u001b[0m\u001b[0;34m.\u001b[0m\u001b[0mprint_menu\u001b[0m\u001b[0;34m(\u001b[0m\u001b[0;34m)\u001b[0m\u001b[0;34m\u001b[0m\u001b[0;34m\u001b[0m\u001b[0m\n\u001b[0m\u001b[1;32m      2\u001b[0m \u001b[0mAnimalCounter\u001b[0m\u001b[0;34m\u001b[0m\u001b[0;34m\u001b[0m\u001b[0m\n",
            "\u001b[0;32m<ipython-input-65-a26ed75e1f3a>\u001b[0m in \u001b[0;36mprint_menu\u001b[0;34m()\u001b[0m\n\u001b[1;32m     31\u001b[0m \u001b[0;34m\u001b[0m\u001b[0m\n\u001b[1;32m     32\u001b[0m             \u001b[0;32mif\u001b[0m \u001b[0mchoice\u001b[0m \u001b[0;34m==\u001b[0m \u001b[0;34m\"1\"\u001b[0m\u001b[0;34m:\u001b[0m\u001b[0;34m\u001b[0m\u001b[0;34m\u001b[0m\u001b[0m\n\u001b[0;32m---> 33\u001b[0;31m                 \u001b[0mself\u001b[0m\u001b[0;34m.\u001b[0m\u001b[0madd_animal\u001b[0m\u001b[0;34m(\u001b[0m\u001b[0;34m)\u001b[0m\u001b[0;34m\u001b[0m\u001b[0;34m\u001b[0m\u001b[0m\n\u001b[0m\u001b[1;32m     34\u001b[0m             \u001b[0;32melif\u001b[0m \u001b[0mchoice\u001b[0m \u001b[0;34m==\u001b[0m \u001b[0;34m\"2\"\u001b[0m\u001b[0;34m:\u001b[0m\u001b[0;34m\u001b[0m\u001b[0;34m\u001b[0m\u001b[0m\n\u001b[1;32m     35\u001b[0m                 \u001b[0mself\u001b[0m\u001b[0;34m.\u001b[0m\u001b[0mprint_all_animals\u001b[0m\u001b[0;34m(\u001b[0m\u001b[0;34m)\u001b[0m\u001b[0;34m\u001b[0m\u001b[0;34m\u001b[0m\u001b[0m\n",
            "\u001b[0;31mNameError\u001b[0m: name 'self' is not defined"
          ]
        }
      ]
    }
  ]
}