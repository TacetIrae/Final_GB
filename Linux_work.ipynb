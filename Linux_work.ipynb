{
  "nbformat": 4,
  "nbformat_minor": 0,
  "metadata": {
    "colab": {
      "provenance": [],
      "mount_file_id": "1J40uJ5o-u9t2T03QQAM61yF19B70lYRD",
      "authorship_tag": "ABX9TyPCzB+HNrgOD/KI9qsdjAEN",
      "include_colab_link": true
    },
    "kernelspec": {
      "name": "python3",
      "display_name": "Python 3"
    },
    "language_info": {
      "name": "python"
    }
  },
  "cells": [
    {
      "cell_type": "markdown",
      "metadata": {
        "id": "view-in-github",
        "colab_type": "text"
      },
      "source": [
        "<a href=\"https://colab.research.google.com/github/TacetIrae/Final_GB/blob/main/Linux_work.ipynb\" target=\"_parent\"><img src=\"https://colab.research.google.com/assets/colab-badge.svg\" alt=\"Open In Colab\"/></a>"
      ]
    },
    {
      "cell_type": "markdown",
      "source": [
        "Создание Текстовых документов"
      ],
      "metadata": {
        "id": "Mm3TBUVwuG9x"
      }
    },
    {
      "cell_type": "code",
      "execution_count": null,
      "metadata": {
        "colab": {
          "base_uri": "https://localhost:8080/"
        },
        "id": "l06283JYAU31",
        "outputId": "d84f94ab-be9d-42b5-8a0d-4fa46a0d2157"
      },
      "outputs": [
        {
          "output_type": "stream",
          "name": "stdout",
          "text": [
            "/bin/bash: line 1: warning: here-document at line 1 delimited by end-of-file (wanted `EOF')\n",
            "/bin/bash: line 1: warning: here-document at line 1 delimited by end-of-file (wanted `EOF')\n"
          ]
        }
      ],
      "source": [
        "!cat > Pets.txt << EOF\n",
        "!echo \"Собака\" >> Pets.txt\n",
        "!echo \"Кошка\" >> Pets.txt\n",
        "!echo \"Хомяк\" >> Pets.txt\n",
        "\n",
        "\n",
        "!cat > PackAnimals.txt << EOF\n",
        "!echo \"Лошадь\" >> PackAnimals.txt\n",
        "!echo \"Верблюд\" >> PackAnimals.txt\n",
        "!echo \"Осел\" >> PackAnimals.txt\n"
      ]
    },
    {
      "cell_type": "markdown",
      "source": [
        "Объединение файлов"
      ],
      "metadata": {
        "id": "vuNqIJtAuaSR"
      }
    },
    {
      "cell_type": "code",
      "source": [
        "!cat Pets.txt PackAnimals.txt > HumanFriends.txt"
      ],
      "metadata": {
        "id": "01mZRwsHAxRm"
      },
      "execution_count": null,
      "outputs": []
    },
    {
      "cell_type": "markdown",
      "source": [
        "Просмотр содержимого файла"
      ],
      "metadata": {
        "id": "1MkZGm4MukSP"
      }
    },
    {
      "cell_type": "code",
      "source": [
        "!cat HumanFriends.txt"
      ],
      "metadata": {
        "id": "xhXIUmg5A1MU",
        "colab": {
          "base_uri": "https://localhost:8080/"
        },
        "outputId": "81dd89a8-cb3f-415e-9e2a-1e137eb6884a"
      },
      "execution_count": null,
      "outputs": [
        {
          "output_type": "stream",
          "name": "stdout",
          "text": [
            "Собака\n",
            "Кошка\n",
            "Хомяк\n",
            "Лошадь\n",
            "Верблюд\n",
            "Осел\n"
          ]
        }
      ]
    },
    {
      "cell_type": "markdown",
      "source": [
        "Переминование файла"
      ],
      "metadata": {
        "id": "-kLxfyNMumu2"
      }
    },
    {
      "cell_type": "code",
      "source": [
        "!mv HumanFriends.txt HumanFriends.txt\n"
      ],
      "metadata": {
        "id": "DGrp6PRmA2iH",
        "colab": {
          "base_uri": "https://localhost:8080/"
        },
        "outputId": "e252036a-8cb0-4f7e-b5d9-9e6fd4424e56"
      },
      "execution_count": null,
      "outputs": [
        {
          "output_type": "stream",
          "name": "stdout",
          "text": [
            "mv: 'HumanFriends.txt' and 'HumanFriends.txt' are the same file\n"
          ]
        }
      ]
    },
    {
      "cell_type": "markdown",
      "source": [
        "Создание дериктория используя консольную команду Linux"
      ],
      "metadata": {
        "id": "pUTK65zuvIyK"
      }
    },
    {
      "cell_type": "code",
      "source": [
        "!mkdir AnimalRecords"
      ],
      "metadata": {
        "id": "dGLguSF3A9Ba"
      },
      "execution_count": null,
      "outputs": []
    },
    {
      "cell_type": "markdown",
      "source": [
        "Переименование файла"
      ],
      "metadata": {
        "id": "c5bDsgswvQZB"
      }
    },
    {
      "cell_type": "code",
      "source": [
        "!mv HumanFriends.txt AnimalRecords/"
      ],
      "metadata": {
        "id": "W9abrNIoBB5C"
      },
      "execution_count": null,
      "outputs": []
    },
    {
      "cell_type": "markdown",
      "source": [
        "Установка MySQL"
      ],
      "metadata": {
        "id": "-E7I9Ro2vuhB"
      }
    },
    {
      "cell_type": "code",
      "source": [
        "!sudo apt update\n",
        "!sudo apt install mysql-server mysql-client"
      ],
      "metadata": {
        "id": "0v_2RrqjBD7x",
        "colab": {
          "base_uri": "https://localhost:8080/"
        },
        "outputId": "a1805ae1-b00e-446d-ef3e-decc5096a345"
      },
      "execution_count": null,
      "outputs": [
        {
          "output_type": "stream",
          "name": "stdout",
          "text": [
            "\u001b[33m\r0% [Working]\u001b[0m\r            \rHit:1 http://archive.ubuntu.com/ubuntu jammy InRelease\n",
            "\u001b[33m\r0% [Connecting to security.ubuntu.com (185.125.190.39)] [Waiting for headers] [\u001b[0m\r                                                                               \rHit:2 http://archive.ubuntu.com/ubuntu jammy-updates InRelease\n",
            "\u001b[33m\r0% [Waiting for headers] [Connecting to security.ubuntu.com (185.125.190.39)] [\u001b[0m\r                                                                               \rHit:3 https://cloud.r-project.org/bin/linux/ubuntu jammy-cran40/ InRelease\n",
            "\u001b[33m\r0% [Waiting for headers] [Waiting for headers] [Connecting to ppa.launchpadcont\u001b[0m\r                                                                               \rHit:4 http://archive.ubuntu.com/ubuntu jammy-backports InRelease\n",
            "Hit:5 http://security.ubuntu.com/ubuntu jammy-security InRelease\n",
            "Hit:6 https://ppa.launchpadcontent.net/c2d4u.team/c2d4u4.0+/ubuntu jammy InRelease\n",
            "Hit:7 https://ppa.launchpadcontent.net/deadsnakes/ppa/ubuntu jammy InRelease\n",
            "Hit:8 https://ppa.launchpadcontent.net/graphics-drivers/ppa/ubuntu jammy InRelease\n",
            "Hit:9 https://ppa.launchpadcontent.net/ubuntugis/ppa/ubuntu jammy InRelease\n",
            "Hit:10 https://developer.download.nvidia.com/compute/cuda/repos/ubuntu2204/x86_64  InRelease\n",
            "Reading package lists... Done\n",
            "Building dependency tree... Done\n",
            "Reading state information... Done\n",
            "37 packages can be upgraded. Run 'apt list --upgradable' to see them.\n",
            "Reading package lists... Done\n",
            "Building dependency tree... Done\n",
            "Reading state information... Done\n",
            "mysql-server is already the newest version (8.0.36-0ubuntu0.22.04.1).\n",
            "The following NEW packages will be installed:\n",
            "  mysql-client\n",
            "0 upgraded, 1 newly installed, 0 to remove and 37 not upgraded.\n",
            "Need to get 9,354 B of archives.\n",
            "After this operation, 35.8 kB of additional disk space will be used.\n",
            "Get:1 http://archive.ubuntu.com/ubuntu jammy-updates/main amd64 mysql-client all 8.0.36-0ubuntu0.22.04.1 [9,354 B]\n",
            "Fetched 9,354 B in 0s (134 kB/s)\n",
            "debconf: unable to initialize frontend: Dialog\n",
            "debconf: (No usable dialog-like program is installed, so the dialog based frontend cannot be used. at /usr/share/perl5/Debconf/FrontEnd/Dialog.pm line 78, <> line 1.)\n",
            "debconf: falling back to frontend: Readline\n",
            "debconf: unable to initialize frontend: Readline\n",
            "debconf: (This frontend requires a controlling tty.)\n",
            "debconf: falling back to frontend: Teletype\n",
            "dpkg-preconfigure: unable to re-open stdin: \n",
            "Selecting previously unselected package mysql-client.\n",
            "(Reading database ... 122262 files and directories currently installed.)\n",
            "Preparing to unpack .../mysql-client_8.0.36-0ubuntu0.22.04.1_all.deb ...\n",
            "Unpacking mysql-client (8.0.36-0ubuntu0.22.04.1) ...\n",
            "Setting up mysql-client (8.0.36-0ubuntu0.22.04.1) ...\n"
          ]
        }
      ]
    },
    {
      "cell_type": "markdown",
      "source": [
        "Подключение репозитория"
      ],
      "metadata": {
        "id": "z2l4LCEcvu5l"
      }
    },
    {
      "cell_type": "code",
      "source": [
        "!sudo apt install alien\n",
        "!sudo alien /content/drive/MyDrive/MySQL/mysql80-community-release-el8-9.noarch.rpm"
      ],
      "metadata": {
        "colab": {
          "base_uri": "https://localhost:8080/"
        },
        "id": "0qhJfcLj1t6r",
        "outputId": "8107058f-2a94-439c-aa9c-60a771c47ac7"
      },
      "execution_count": 25,
      "outputs": [
        {
          "output_type": "stream",
          "name": "stdout",
          "text": [
            "Reading package lists... Done\n",
            "Building dependency tree... Done\n",
            "Reading state information... Done\n",
            "The following additional packages will be installed:\n",
            "  autopoint cpio debhelper debugedit dh-autoreconf dh-strip-nondeterminism dwz\n",
            "  gettext gettext-base intltool-debian libarchive-cpio-perl\n",
            "  libarchive-zip-perl libdebhelper-perl libfile-stripnondeterminism-perl\n",
            "  libfsverity0 liblua5.3-0 libmail-sendmail-perl librpm9 librpmbuild9\n",
            "  librpmio9 librpmsign9 libsub-override-perl libsys-hostname-long-perl libtool\n",
            "  po-debconf rpm rpm-common rpm2cpio\n",
            "Suggested packages:\n",
            "  lintian libarchive1 dh-make gettext-doc libasprintf-dev libgettextpo-dev\n",
            "  libtool-doc gcj-jdk libmail-box-perl elfutils rpmlint rpm-i18n\n",
            "The following NEW packages will be installed:\n",
            "  alien autopoint cpio debhelper debugedit dh-autoreconf\n",
            "  dh-strip-nondeterminism dwz gettext gettext-base intltool-debian\n",
            "  libarchive-cpio-perl libarchive-zip-perl libdebhelper-perl\n",
            "  libfile-stripnondeterminism-perl libfsverity0 liblua5.3-0\n",
            "  libmail-sendmail-perl librpm9 librpmbuild9 librpmio9 librpmsign9\n",
            "  libsub-override-perl libsys-hostname-long-perl libtool po-debconf rpm\n",
            "  rpm-common rpm2cpio\n",
            "0 upgraded, 29 newly installed, 0 to remove and 37 not upgraded.\n",
            "Need to get 3,928 kB of archives.\n",
            "After this operation, 11.5 MB of additional disk space will be used.\n",
            "Get:1 http://archive.ubuntu.com/ubuntu jammy/main amd64 cpio amd64 2.13+dfsg-7 [83.2 kB]\n",
            "Get:2 http://archive.ubuntu.com/ubuntu jammy/main amd64 gettext-base amd64 0.21-4ubuntu4 [37.8 kB]\n",
            "Get:3 http://archive.ubuntu.com/ubuntu jammy/main amd64 autopoint all 0.21-4ubuntu4 [422 kB]\n",
            "Get:4 http://archive.ubuntu.com/ubuntu jammy/main amd64 libdebhelper-perl all 13.6ubuntu1 [67.2 kB]\n",
            "Get:5 http://archive.ubuntu.com/ubuntu jammy/main amd64 libtool all 2.4.6-15build2 [164 kB]\n",
            "Get:6 http://archive.ubuntu.com/ubuntu jammy/main amd64 dh-autoreconf all 20 [16.1 kB]\n",
            "Get:7 http://archive.ubuntu.com/ubuntu jammy/main amd64 libarchive-zip-perl all 1.68-1 [90.2 kB]\n",
            "Get:8 http://archive.ubuntu.com/ubuntu jammy/main amd64 libsub-override-perl all 0.09-2 [9,532 B]\n",
            "Get:9 http://archive.ubuntu.com/ubuntu jammy/main amd64 libfile-stripnondeterminism-perl all 1.13.0-1 [18.1 kB]\n",
            "Get:10 http://archive.ubuntu.com/ubuntu jammy/main amd64 dh-strip-nondeterminism all 1.13.0-1 [5,344 B]\n",
            "Get:11 http://archive.ubuntu.com/ubuntu jammy/main amd64 debugedit amd64 1:5.0-4build1 [47.2 kB]\n",
            "Get:12 http://archive.ubuntu.com/ubuntu jammy/main amd64 dwz amd64 0.14-1build2 [105 kB]\n",
            "Get:13 http://archive.ubuntu.com/ubuntu jammy/main amd64 gettext amd64 0.21-4ubuntu4 [868 kB]\n",
            "Get:14 http://archive.ubuntu.com/ubuntu jammy/main amd64 intltool-debian all 0.35.0+20060710.5 [24.9 kB]\n",
            "Get:15 http://archive.ubuntu.com/ubuntu jammy/main amd64 po-debconf all 1.0.21+nmu1 [233 kB]\n",
            "Get:16 http://archive.ubuntu.com/ubuntu jammy/main amd64 debhelper all 13.6ubuntu1 [923 kB]\n",
            "Get:17 http://archive.ubuntu.com/ubuntu jammy/main amd64 liblua5.3-0 amd64 5.3.6-1build1 [140 kB]\n",
            "Get:18 http://archive.ubuntu.com/ubuntu jammy/universe amd64 librpmio9 amd64 4.17.0+dfsg1-4build1 [93.2 kB]\n",
            "Get:19 http://archive.ubuntu.com/ubuntu jammy/universe amd64 librpm9 amd64 4.17.0+dfsg1-4build1 [189 kB]\n",
            "Get:20 http://archive.ubuntu.com/ubuntu jammy/universe amd64 librpmbuild9 amd64 4.17.0+dfsg1-4build1 [80.3 kB]\n",
            "Get:21 http://archive.ubuntu.com/ubuntu jammy/universe amd64 libfsverity0 amd64 1.4-1~exp1build1 [10.4 kB]\n",
            "Get:22 http://archive.ubuntu.com/ubuntu jammy/universe amd64 librpmsign9 amd64 4.17.0+dfsg1-4build1 [11.7 kB]\n",
            "Get:23 http://archive.ubuntu.com/ubuntu jammy/universe amd64 rpm-common amd64 4.17.0+dfsg1-4build1 [33.7 kB]\n",
            "Get:24 http://archive.ubuntu.com/ubuntu jammy/universe amd64 rpm2cpio amd64 4.17.0+dfsg1-4build1 [9,882 B]\n",
            "Get:25 http://archive.ubuntu.com/ubuntu jammy/universe amd64 rpm amd64 4.17.0+dfsg1-4build1 [151 kB]\n",
            "Get:26 http://archive.ubuntu.com/ubuntu jammy/universe amd64 alien all 8.95.5 [50.9 kB]\n",
            "Get:27 http://archive.ubuntu.com/ubuntu jammy/main amd64 libarchive-cpio-perl all 0.10-1.1 [9,928 B]\n",
            "Get:28 http://archive.ubuntu.com/ubuntu jammy/main amd64 libsys-hostname-long-perl all 1.5-2 [11.5 kB]\n",
            "Get:29 http://archive.ubuntu.com/ubuntu jammy/main amd64 libmail-sendmail-perl all 0.80-1.1 [22.7 kB]\n",
            "Fetched 3,928 kB in 0s (8,079 kB/s)\n",
            "debconf: unable to initialize frontend: Dialog\n",
            "debconf: (No usable dialog-like program is installed, so the dialog based frontend cannot be used. at /usr/share/perl5/Debconf/FrontEnd/Dialog.pm line 78, <> line 29.)\n",
            "debconf: falling back to frontend: Readline\n",
            "debconf: unable to initialize frontend: Readline\n",
            "debconf: (This frontend requires a controlling tty.)\n",
            "debconf: falling back to frontend: Teletype\n",
            "dpkg-preconfigure: unable to re-open stdin: \n",
            "Selecting previously unselected package cpio.\n",
            "(Reading database ... 122264 files and directories currently installed.)\n",
            "Preparing to unpack .../00-cpio_2.13+dfsg-7_amd64.deb ...\n",
            "Unpacking cpio (2.13+dfsg-7) ...\n",
            "Selecting previously unselected package gettext-base.\n",
            "Preparing to unpack .../01-gettext-base_0.21-4ubuntu4_amd64.deb ...\n",
            "Unpacking gettext-base (0.21-4ubuntu4) ...\n",
            "Selecting previously unselected package autopoint.\n",
            "Preparing to unpack .../02-autopoint_0.21-4ubuntu4_all.deb ...\n",
            "Unpacking autopoint (0.21-4ubuntu4) ...\n",
            "Selecting previously unselected package libdebhelper-perl.\n",
            "Preparing to unpack .../03-libdebhelper-perl_13.6ubuntu1_all.deb ...\n",
            "Unpacking libdebhelper-perl (13.6ubuntu1) ...\n",
            "Selecting previously unselected package libtool.\n",
            "Preparing to unpack .../04-libtool_2.4.6-15build2_all.deb ...\n",
            "Unpacking libtool (2.4.6-15build2) ...\n",
            "Selecting previously unselected package dh-autoreconf.\n",
            "Preparing to unpack .../05-dh-autoreconf_20_all.deb ...\n",
            "Unpacking dh-autoreconf (20) ...\n",
            "Selecting previously unselected package libarchive-zip-perl.\n",
            "Preparing to unpack .../06-libarchive-zip-perl_1.68-1_all.deb ...\n",
            "Unpacking libarchive-zip-perl (1.68-1) ...\n",
            "Selecting previously unselected package libsub-override-perl.\n",
            "Preparing to unpack .../07-libsub-override-perl_0.09-2_all.deb ...\n",
            "Unpacking libsub-override-perl (0.09-2) ...\n",
            "Selecting previously unselected package libfile-stripnondeterminism-perl.\n",
            "Preparing to unpack .../08-libfile-stripnondeterminism-perl_1.13.0-1_all.deb ...\n",
            "Unpacking libfile-stripnondeterminism-perl (1.13.0-1) ...\n",
            "Selecting previously unselected package dh-strip-nondeterminism.\n",
            "Preparing to unpack .../09-dh-strip-nondeterminism_1.13.0-1_all.deb ...\n",
            "Unpacking dh-strip-nondeterminism (1.13.0-1) ...\n",
            "Selecting previously unselected package debugedit.\n",
            "Preparing to unpack .../10-debugedit_1%3a5.0-4build1_amd64.deb ...\n",
            "Unpacking debugedit (1:5.0-4build1) ...\n",
            "Selecting previously unselected package dwz.\n",
            "Preparing to unpack .../11-dwz_0.14-1build2_amd64.deb ...\n",
            "Unpacking dwz (0.14-1build2) ...\n",
            "Selecting previously unselected package gettext.\n",
            "Preparing to unpack .../12-gettext_0.21-4ubuntu4_amd64.deb ...\n",
            "Unpacking gettext (0.21-4ubuntu4) ...\n",
            "Selecting previously unselected package intltool-debian.\n",
            "Preparing to unpack .../13-intltool-debian_0.35.0+20060710.5_all.deb ...\n",
            "Unpacking intltool-debian (0.35.0+20060710.5) ...\n",
            "Selecting previously unselected package po-debconf.\n",
            "Preparing to unpack .../14-po-debconf_1.0.21+nmu1_all.deb ...\n",
            "Unpacking po-debconf (1.0.21+nmu1) ...\n",
            "Selecting previously unselected package debhelper.\n",
            "Preparing to unpack .../15-debhelper_13.6ubuntu1_all.deb ...\n",
            "Unpacking debhelper (13.6ubuntu1) ...\n",
            "Selecting previously unselected package liblua5.3-0:amd64.\n",
            "Preparing to unpack .../16-liblua5.3-0_5.3.6-1build1_amd64.deb ...\n",
            "Unpacking liblua5.3-0:amd64 (5.3.6-1build1) ...\n",
            "Selecting previously unselected package librpmio9.\n",
            "Preparing to unpack .../17-librpmio9_4.17.0+dfsg1-4build1_amd64.deb ...\n",
            "Unpacking librpmio9 (4.17.0+dfsg1-4build1) ...\n",
            "Selecting previously unselected package librpm9.\n",
            "Preparing to unpack .../18-librpm9_4.17.0+dfsg1-4build1_amd64.deb ...\n",
            "Unpacking librpm9 (4.17.0+dfsg1-4build1) ...\n",
            "Selecting previously unselected package librpmbuild9.\n",
            "Preparing to unpack .../19-librpmbuild9_4.17.0+dfsg1-4build1_amd64.deb ...\n",
            "Unpacking librpmbuild9 (4.17.0+dfsg1-4build1) ...\n",
            "Selecting previously unselected package libfsverity0:amd64.\n",
            "Preparing to unpack .../20-libfsverity0_1.4-1~exp1build1_amd64.deb ...\n",
            "Unpacking libfsverity0:amd64 (1.4-1~exp1build1) ...\n",
            "Selecting previously unselected package librpmsign9.\n",
            "Preparing to unpack .../21-librpmsign9_4.17.0+dfsg1-4build1_amd64.deb ...\n",
            "Unpacking librpmsign9 (4.17.0+dfsg1-4build1) ...\n",
            "Selecting previously unselected package rpm-common.\n",
            "Preparing to unpack .../22-rpm-common_4.17.0+dfsg1-4build1_amd64.deb ...\n",
            "Unpacking rpm-common (4.17.0+dfsg1-4build1) ...\n",
            "Selecting previously unselected package rpm2cpio.\n",
            "Preparing to unpack .../23-rpm2cpio_4.17.0+dfsg1-4build1_amd64.deb ...\n",
            "Unpacking rpm2cpio (4.17.0+dfsg1-4build1) ...\n",
            "Selecting previously unselected package rpm.\n",
            "Preparing to unpack .../24-rpm_4.17.0+dfsg1-4build1_amd64.deb ...\n",
            "Unpacking rpm (4.17.0+dfsg1-4build1) ...\n",
            "Selecting previously unselected package alien.\n",
            "Preparing to unpack .../25-alien_8.95.5_all.deb ...\n",
            "Unpacking alien (8.95.5) ...\n",
            "Selecting previously unselected package libarchive-cpio-perl.\n",
            "Preparing to unpack .../26-libarchive-cpio-perl_0.10-1.1_all.deb ...\n",
            "Unpacking libarchive-cpio-perl (0.10-1.1) ...\n",
            "Selecting previously unselected package libsys-hostname-long-perl.\n",
            "Preparing to unpack .../27-libsys-hostname-long-perl_1.5-2_all.deb ...\n",
            "Unpacking libsys-hostname-long-perl (1.5-2) ...\n",
            "Selecting previously unselected package libmail-sendmail-perl.\n",
            "Preparing to unpack .../28-libmail-sendmail-perl_0.80-1.1_all.deb ...\n",
            "Unpacking libmail-sendmail-perl (0.80-1.1) ...\n",
            "Setting up cpio (2.13+dfsg-7) ...\n",
            "update-alternatives: using /bin/mt-gnu to provide /bin/mt (mt) in auto mode\n",
            "Setting up libtool (2.4.6-15build2) ...\n",
            "Setting up libarchive-zip-perl (1.68-1) ...\n",
            "Setting up libdebhelper-perl (13.6ubuntu1) ...\n",
            "Setting up gettext-base (0.21-4ubuntu4) ...\n",
            "Setting up libfsverity0:amd64 (1.4-1~exp1build1) ...\n",
            "Setting up autopoint (0.21-4ubuntu4) ...\n",
            "Setting up dwz (0.14-1build2) ...\n",
            "Setting up libarchive-cpio-perl (0.10-1.1) ...\n",
            "Setting up liblua5.3-0:amd64 (5.3.6-1build1) ...\n",
            "Setting up debugedit (1:5.0-4build1) ...\n",
            "Setting up libsub-override-perl (0.09-2) ...\n",
            "Setting up libsys-hostname-long-perl (1.5-2) ...\n",
            "Setting up librpmio9 (4.17.0+dfsg1-4build1) ...\n",
            "Setting up libfile-stripnondeterminism-perl (1.13.0-1) ...\n",
            "Setting up librpm9 (4.17.0+dfsg1-4build1) ...\n",
            "Setting up gettext (0.21-4ubuntu4) ...\n",
            "Setting up rpm-common (4.17.0+dfsg1-4build1) ...\n",
            "Setting up intltool-debian (0.35.0+20060710.5) ...\n",
            "Setting up dh-autoreconf (20) ...\n",
            "Setting up libmail-sendmail-perl (0.80-1.1) ...\n",
            "Setting up librpmbuild9 (4.17.0+dfsg1-4build1) ...\n",
            "Setting up dh-strip-nondeterminism (1.13.0-1) ...\n",
            "Setting up librpmsign9 (4.17.0+dfsg1-4build1) ...\n",
            "Setting up rpm2cpio (4.17.0+dfsg1-4build1) ...\n",
            "Setting up po-debconf (1.0.21+nmu1) ...\n",
            "Setting up rpm (4.17.0+dfsg1-4build1) ...\n",
            "Setting up debhelper (13.6ubuntu1) ...\n",
            "Setting up alien (8.95.5) ...\n",
            "Processing triggers for libc-bin (2.35-0ubuntu3.4) ...\n",
            "/sbin/ldconfig.real: /usr/local/lib/libtbbmalloc_proxy.so.2 is not a symbolic link\n",
            "\n",
            "/sbin/ldconfig.real: /usr/local/lib/libtbb.so.12 is not a symbolic link\n",
            "\n",
            "/sbin/ldconfig.real: /usr/local/lib/libtbbmalloc.so.2 is not a symbolic link\n",
            "\n",
            "/sbin/ldconfig.real: /usr/local/lib/libtbbbind_2_5.so.3 is not a symbolic link\n",
            "\n",
            "/sbin/ldconfig.real: /usr/local/lib/libtbbbind_2_0.so.3 is not a symbolic link\n",
            "\n",
            "/sbin/ldconfig.real: /usr/local/lib/libtbbbind.so.3 is not a symbolic link\n",
            "\n",
            "Processing triggers for man-db (2.10.2-1) ...\n",
            "Processing triggers for dbus (1.12.20-2ubuntu4.1) ...\n",
            "warning: /content/drive/MyDrive/MySQL/mysql80-community-release-el8-9.noarch.rpm: Header V4 RSA/SHA256 Signature, key ID 3a79bd29: NOKEY\n",
            "warning: /content/drive/MyDrive/MySQL/mysql80-community-release-el8-9.noarch.rpm: Header V4 RSA/SHA256 Signature, key ID 3a79bd29: NOKEY\n",
            "warning: /content/drive/MyDrive/MySQL/mysql80-community-release-el8-9.noarch.rpm: Header V4 RSA/SHA256 Signature, key ID 3a79bd29: NOKEY\n",
            "warning: /content/drive/MyDrive/MySQL/mysql80-community-release-el8-9.noarch.rpm: Header V4 RSA/SHA256 Signature, key ID 3a79bd29: NOKEY\n",
            "warning: /content/drive/MyDrive/MySQL/mysql80-community-release-el8-9.noarch.rpm: Header V4 RSA/SHA256 Signature, key ID 3a79bd29: NOKEY\n",
            "warning: /content/drive/MyDrive/MySQL/mysql80-community-release-el8-9.noarch.rpm: Header V4 RSA/SHA256 Signature, key ID 3a79bd29: NOKEY\n",
            "warning: /content/drive/MyDrive/MySQL/mysql80-community-release-el8-9.noarch.rpm: Header V4 RSA/SHA256 Signature, key ID 3a79bd29: NOKEY\n",
            "warning: /content/drive/MyDrive/MySQL/mysql80-community-release-el8-9.noarch.rpm: Header V4 RSA/SHA256 Signature, key ID 3a79bd29: NOKEY\n",
            "warning: /content/drive/MyDrive/MySQL/mysql80-community-release-el8-9.noarch.rpm: Header V4 RSA/SHA256 Signature, key ID 3a79bd29: NOKEY\n",
            "warning: /content/drive/MyDrive/MySQL/mysql80-community-release-el8-9.noarch.rpm: Header V4 RSA/SHA256 Signature, key ID 3a79bd29: NOKEY\n",
            "warning: /content/drive/MyDrive/MySQL/mysql80-community-release-el8-9.noarch.rpm: Header V4 RSA/SHA256 Signature, key ID 3a79bd29: NOKEY\n",
            "warning: /content/drive/MyDrive/MySQL/mysql80-community-release-el8-9.noarch.rpm: Header V4 RSA/SHA256 Signature, key ID 3a79bd29: NOKEY\n",
            "warning: /content/drive/MyDrive/MySQL/mysql80-community-release-el8-9.noarch.rpm: Header V4 RSA/SHA256 Signature, key ID 3a79bd29: NOKEY\n",
            "warning: /content/drive/MyDrive/MySQL/mysql80-community-release-el8-9.noarch.rpm: Header V4 RSA/SHA256 Signature, key ID 3a79bd29: NOKEY\n",
            "warning: /content/drive/MyDrive/MySQL/mysql80-community-release-el8-9.noarch.rpm: Header V4 RSA/SHA256 Signature, key ID 3a79bd29: NOKEY\n",
            "warning: /content/drive/MyDrive/MySQL/mysql80-community-release-el8-9.noarch.rpm: Header V4 RSA/SHA256 Signature, key ID 3a79bd29: NOKEY\n",
            "Warning: Skipping conversion of scripts in package mysql80-community-release: postinst\n",
            "Warning: Use the --scripts parameter to include the scripts.\n",
            "warning: /content/drive/MyDrive/MySQL/mysql80-community-release-el8-9.noarch.rpm: Header V4 RSA/SHA256 Signature, key ID 3a79bd29: NOKEY\n",
            "mysql80-community-release_0el8-10_all.deb generated\n"
          ]
        }
      ]
    },
    {
      "cell_type": "code",
      "source": [
        "!sudo dpkg -i /content/mysql80-community-release_0el8-10_all.deb"
      ],
      "metadata": {
        "colab": {
          "base_uri": "https://localhost:8080/"
        },
        "id": "akHGXwwz2Nrk",
        "outputId": "2c4c0342-e06d-4727-b85d-88f9b6d7f07e"
      },
      "execution_count": 26,
      "outputs": [
        {
          "output_type": "stream",
          "name": "stdout",
          "text": [
            "Selecting previously unselected package mysql80-community-release.\n",
            "(Reading database ... \r(Reading database ... 5%\r(Reading database ... 10%\r(Reading database ... 15%\r(Reading database ... 20%\r(Reading database ... 25%\r(Reading database ... 30%\r(Reading database ... 35%\r(Reading database ... 40%\r(Reading database ... 45%\r(Reading database ... 50%\r(Reading database ... 55%\r(Reading database ... 60%\r(Reading database ... 65%\r(Reading database ... 70%\r(Reading database ... 75%\r(Reading database ... 80%\r(Reading database ... 85%\r(Reading database ... 90%\r(Reading database ... 95%\r(Reading database ... 100%\r(Reading database ... 123463 files and directories currently installed.)\n",
            "Preparing to unpack .../mysql80-community-release_0el8-10_all.deb ...\n",
            "Unpacking mysql80-community-release (0el8-10) ...\n",
            "Setting up mysql80-community-release (0el8-10) ...\n"
          ]
        }
      ]
    },
    {
      "cell_type": "code",
      "source": [
        "!sudo dpkg -i /content/mysql80-community-release_0el8-10_all.deb\n",
        "!sudo apt update"
      ],
      "metadata": {
        "id": "rhaQqg-WBGyS",
        "colab": {
          "base_uri": "https://localhost:8080/"
        },
        "outputId": "b5e25808-bba9-4092-c414-61f50d5b02e2"
      },
      "execution_count": 30,
      "outputs": [
        {
          "output_type": "stream",
          "name": "stdout",
          "text": [
            "(Reading database ... \r(Reading database ... 5%\r(Reading database ... 10%\r(Reading database ... 15%\r(Reading database ... 20%\r(Reading database ... 25%\r(Reading database ... 30%\r(Reading database ... 35%\r(Reading database ... 40%\r(Reading database ... 45%\r(Reading database ... 50%\r(Reading database ... 55%\r(Reading database ... 60%\r(Reading database ... 65%\r(Reading database ... 70%\r(Reading database ... 75%\r(Reading database ... 80%\r(Reading database ... 85%\r(Reading database ... 90%\r(Reading database ... 95%\r(Reading database ... 100%\r(Reading database ... 123475 files and directories currently installed.)\n",
            "Preparing to unpack .../mysql80-community-release_0el8-10_all.deb ...\n",
            "Unpacking mysql80-community-release (0el8-10) over (0el8-10) ...\n",
            "Setting up mysql80-community-release (0el8-10) ...\n",
            "Hit:1 http://security.ubuntu.com/ubuntu jammy-security InRelease\n",
            "Hit:2 https://developer.download.nvidia.com/compute/cuda/repos/ubuntu2204/x86_64  InRelease\n",
            "Hit:3 https://cloud.r-project.org/bin/linux/ubuntu jammy-cran40/ InRelease\n",
            "Hit:4 http://archive.ubuntu.com/ubuntu jammy InRelease\n",
            "Hit:5 http://archive.ubuntu.com/ubuntu jammy-updates InRelease\n",
            "Hit:6 http://archive.ubuntu.com/ubuntu jammy-backports InRelease\n",
            "Hit:7 https://ppa.launchpadcontent.net/c2d4u.team/c2d4u4.0+/ubuntu jammy InRelease\n",
            "Hit:8 https://ppa.launchpadcontent.net/deadsnakes/ppa/ubuntu jammy InRelease\n",
            "Hit:9 https://ppa.launchpadcontent.net/graphics-drivers/ppa/ubuntu jammy InRelease\n",
            "Hit:10 https://ppa.launchpadcontent.net/ubuntugis/ppa/ubuntu jammy InRelease\n",
            "Reading package lists... Done\n",
            "Building dependency tree... Done\n",
            "Reading state information... Done\n",
            "37 packages can be upgraded. Run 'apt list --upgradable' to see them.\n"
          ]
        }
      ]
    },
    {
      "cell_type": "markdown",
      "source": [
        "Установка сервера MySql"
      ],
      "metadata": {
        "id": "xoX4ZJ0b3ir4"
      }
    },
    {
      "cell_type": "code",
      "source": [
        "!sudo apt install mysql-server"
      ],
      "metadata": {
        "id": "QmEb8RszBIc4",
        "colab": {
          "base_uri": "https://localhost:8080/"
        },
        "outputId": "b366fcc9-4e2a-48f1-c9ad-8b81790ccb7a"
      },
      "execution_count": 31,
      "outputs": [
        {
          "output_type": "stream",
          "name": "stdout",
          "text": [
            "Reading package lists... Done\n",
            "Building dependency tree... Done\n",
            "Reading state information... Done\n",
            "mysql-server is already the newest version (8.0.36-0ubuntu0.22.04.1).\n",
            "0 upgraded, 0 newly installed, 0 to remove and 37 not upgraded.\n"
          ]
        }
      ]
    },
    {
      "cell_type": "markdown",
      "source": [
        "Установка Пакета"
      ],
      "metadata": {
        "id": "nnj4AeKl3nhw"
      }
    },
    {
      "cell_type": "code",
      "source": [
        "!sudo apt install gimp"
      ],
      "metadata": {
        "id": "a5-GGJAdBJt4",
        "colab": {
          "base_uri": "https://localhost:8080/"
        },
        "outputId": "c4798225-cc13-4e76-e114-191820e52cae"
      },
      "execution_count": 32,
      "outputs": [
        {
          "output_type": "stream",
          "name": "stdout",
          "text": [
            "Reading package lists... Done\n",
            "Building dependency tree... Done\n",
            "Reading state information... Done\n",
            "The following additional packages will be installed:\n",
            "  fonts-droid-fallback fonts-noto-mono fonts-urw-base35 ghostscript gimp-data\n",
            "  libaa1 libamd2 libbabl-0.1-0 libcamd2 libccolamd2 libcholmod3 libcolamd2\n",
            "  libexiv2-27 libgail-common libgail18 libgegl-0.4-0 libgegl-common\n",
            "  libgexiv2-2 libgimp2.0 libgs9 libgs9-common libgtk2.0-0 libgtk2.0-bin\n",
            "  libgtk2.0-common libgudev-1.0-0 libidn12 libijs-0.35 libjbig2dec0\n",
            "  libjson-glib-1.0-0 libjson-glib-1.0-common libmetis5 libmng2\n",
            "  libmypaint-1.5-1 libmypaint-common libpoppler-glib8 libraw20 librsvg2-common\n",
            "  libsuitesparseconfig5 libumfpack5 libwmf-0.2-7 libwmflite-0.2-7 poppler-data\n",
            "Suggested packages:\n",
            "  fonts-noto fonts-freefont-otf | fonts-freefont-ttf fonts-texgyre\n",
            "  ghostscript-x gimp-help-en | gimp-help gimp-data-extras gvfs-backends exiv2\n",
            "  gvfs libwmf-0.2-7-gtk poppler-utils fonts-japanese-mincho\n",
            "  | fonts-ipafont-mincho fonts-japanese-gothic | fonts-ipafont-gothic\n",
            "  fonts-arphic-ukai fonts-arphic-uming fonts-nanum\n",
            "The following NEW packages will be installed:\n",
            "  fonts-droid-fallback fonts-noto-mono fonts-urw-base35 ghostscript gimp\n",
            "  gimp-data libaa1 libamd2 libbabl-0.1-0 libcamd2 libccolamd2 libcholmod3\n",
            "  libcolamd2 libexiv2-27 libgail-common libgail18 libgegl-0.4-0 libgegl-common\n",
            "  libgexiv2-2 libgimp2.0 libgs9 libgs9-common libgtk2.0-0 libgtk2.0-bin\n",
            "  libgtk2.0-common libgudev-1.0-0 libidn12 libijs-0.35 libjbig2dec0\n",
            "  libjson-glib-1.0-0 libjson-glib-1.0-common libmetis5 libmng2\n",
            "  libmypaint-1.5-1 libmypaint-common libpoppler-glib8 libraw20 librsvg2-common\n",
            "  libsuitesparseconfig5 libumfpack5 libwmf-0.2-7 libwmflite-0.2-7 poppler-data\n",
            "0 upgraded, 43 newly installed, 0 to remove and 37 not upgraded.\n",
            "Need to get 37.7 MB of archives.\n",
            "After this operation, 169 MB of additional disk space will be used.\n",
            "Get:1 http://archive.ubuntu.com/ubuntu jammy/main amd64 fonts-droid-fallback all 1:6.0.1r16-1.1build1 [1,805 kB]\n",
            "Get:2 http://archive.ubuntu.com/ubuntu jammy/main amd64 poppler-data all 0.4.11-1 [2,171 kB]\n",
            "Get:3 http://archive.ubuntu.com/ubuntu jammy/main amd64 fonts-noto-mono all 20201225-1build1 [397 kB]\n",
            "Get:4 http://archive.ubuntu.com/ubuntu jammy/main amd64 fonts-urw-base35 all 20200910-1 [6,367 kB]\n",
            "Get:5 http://archive.ubuntu.com/ubuntu jammy-updates/main amd64 libgs9-common all 9.55.0~dfsg1-0ubuntu5.6 [751 kB]\n",
            "Get:6 http://archive.ubuntu.com/ubuntu jammy-updates/main amd64 libidn12 amd64 1.38-4ubuntu1 [60.0 kB]\n",
            "Get:7 http://archive.ubuntu.com/ubuntu jammy/main amd64 libijs-0.35 amd64 0.35-15build2 [16.5 kB]\n",
            "Get:8 http://archive.ubuntu.com/ubuntu jammy/main amd64 libjbig2dec0 amd64 0.19-3build2 [64.7 kB]\n",
            "Get:9 http://archive.ubuntu.com/ubuntu jammy-updates/main amd64 libgs9 amd64 9.55.0~dfsg1-0ubuntu5.6 [5,031 kB]\n",
            "Get:10 http://archive.ubuntu.com/ubuntu jammy-updates/main amd64 ghostscript amd64 9.55.0~dfsg1-0ubuntu5.6 [49.4 kB]\n",
            "Get:11 http://archive.ubuntu.com/ubuntu jammy/universe amd64 libbabl-0.1-0 amd64 1:0.1.92-1 [440 kB]\n",
            "Get:12 http://archive.ubuntu.com/ubuntu jammy/main amd64 libjson-glib-1.0-common all 1.6.6-1build1 [4,432 B]\n",
            "Get:13 http://archive.ubuntu.com/ubuntu jammy/main amd64 libjson-glib-1.0-0 amd64 1.6.6-1build1 [69.9 kB]\n",
            "Get:14 http://archive.ubuntu.com/ubuntu jammy-updates/main amd64 libpoppler-glib8 amd64 22.02.0-2ubuntu0.3 [134 kB]\n",
            "Get:15 http://archive.ubuntu.com/ubuntu jammy-updates/main amd64 libraw20 amd64 0.20.2-2ubuntu2.22.04.1 [342 kB]\n",
            "Get:16 http://archive.ubuntu.com/ubuntu jammy/main amd64 libsuitesparseconfig5 amd64 1:5.10.1+dfsg-4build1 [10.4 kB]\n",
            "Get:17 http://archive.ubuntu.com/ubuntu jammy/universe amd64 libamd2 amd64 1:5.10.1+dfsg-4build1 [21.6 kB]\n",
            "Get:18 http://archive.ubuntu.com/ubuntu jammy/universe amd64 libcamd2 amd64 1:5.10.1+dfsg-4build1 [23.3 kB]\n",
            "Get:19 http://archive.ubuntu.com/ubuntu jammy/universe amd64 libccolamd2 amd64 1:5.10.1+dfsg-4build1 [25.2 kB]\n",
            "Get:20 http://archive.ubuntu.com/ubuntu jammy/main amd64 libcolamd2 amd64 1:5.10.1+dfsg-4build1 [18.0 kB]\n",
            "Get:21 http://archive.ubuntu.com/ubuntu jammy/universe amd64 libmetis5 amd64 5.1.0.dfsg-7build2 [181 kB]\n",
            "Get:22 http://archive.ubuntu.com/ubuntu jammy/universe amd64 libcholmod3 amd64 1:5.10.1+dfsg-4build1 [346 kB]\n",
            "Get:23 http://archive.ubuntu.com/ubuntu jammy/universe amd64 libumfpack5 amd64 1:5.10.1+dfsg-4build1 [250 kB]\n",
            "Get:24 http://archive.ubuntu.com/ubuntu jammy/universe amd64 libgegl-common all 1:0.4.34-1build1 [866 kB]\n",
            "Get:25 http://archive.ubuntu.com/ubuntu jammy/universe amd64 libgegl-0.4-0 amd64 1:0.4.34-1build1 [1,392 kB]\n",
            "Get:26 http://archive.ubuntu.com/ubuntu jammy/main amd64 libexiv2-27 amd64 0.27.5-3ubuntu1 [844 kB]\n",
            "Get:27 http://archive.ubuntu.com/ubuntu jammy/main amd64 libgexiv2-2 amd64 0.14.0-1build1 [81.4 kB]\n",
            "Get:28 http://archive.ubuntu.com/ubuntu jammy/main amd64 libgtk2.0-common all 2.24.33-2ubuntu2 [125 kB]\n",
            "Get:29 http://archive.ubuntu.com/ubuntu jammy/main amd64 libgtk2.0-0 amd64 2.24.33-2ubuntu2 [2,037 kB]\n",
            "Get:30 http://archive.ubuntu.com/ubuntu jammy-updates/universe amd64 libgimp2.0 amd64 2.10.30-1ubuntu0.1 [501 kB]\n",
            "Get:31 http://archive.ubuntu.com/ubuntu jammy-updates/universe amd64 gimp-data all 2.10.30-1ubuntu0.1 [7,597 kB]\n",
            "Get:32 http://archive.ubuntu.com/ubuntu jammy/main amd64 libaa1 amd64 1.4p5-50build1 [51.9 kB]\n",
            "Get:33 http://archive.ubuntu.com/ubuntu jammy/main amd64 libgudev-1.0-0 amd64 1:237-2build1 [16.3 kB]\n",
            "Get:34 http://archive.ubuntu.com/ubuntu jammy/universe amd64 libmng2 amd64 2.0.3+dfsg-3 [168 kB]\n",
            "Get:35 http://archive.ubuntu.com/ubuntu jammy/universe amd64 libmypaint-common all 1.6.0-2 [140 kB]\n",
            "Get:36 http://archive.ubuntu.com/ubuntu jammy/universe amd64 libmypaint-1.5-1 amd64 1.6.0-2 [49.0 kB]\n",
            "Get:37 http://archive.ubuntu.com/ubuntu jammy/main amd64 libwmflite-0.2-7 amd64 0.2.12-5ubuntu1 [68.9 kB]\n",
            "Get:38 http://archive.ubuntu.com/ubuntu jammy/main amd64 libwmf-0.2-7 amd64 0.2.12-5ubuntu1 [94.2 kB]\n",
            "Get:39 http://archive.ubuntu.com/ubuntu jammy-updates/universe amd64 gimp amd64 2.10.30-1ubuntu0.1 [4,921 kB]\n",
            "Get:40 http://archive.ubuntu.com/ubuntu jammy/main amd64 libgail18 amd64 2.24.33-2ubuntu2 [15.9 kB]\n",
            "Get:41 http://archive.ubuntu.com/ubuntu jammy/main amd64 libgail-common amd64 2.24.33-2ubuntu2 [132 kB]\n",
            "Get:42 http://archive.ubuntu.com/ubuntu jammy/main amd64 libgtk2.0-bin amd64 2.24.33-2ubuntu2 [7,932 B]\n",
            "Get:43 http://archive.ubuntu.com/ubuntu jammy-updates/main amd64 librsvg2-common amd64 2.52.5+dfsg-3ubuntu0.2 [17.7 kB]\n",
            "Fetched 37.7 MB in 1s (40.4 MB/s)\n",
            "debconf: unable to initialize frontend: Dialog\n",
            "debconf: (No usable dialog-like program is installed, so the dialog based frontend cannot be used. at /usr/share/perl5/Debconf/FrontEnd/Dialog.pm line 78, <> line 43.)\n",
            "debconf: falling back to frontend: Readline\n",
            "debconf: unable to initialize frontend: Readline\n",
            "debconf: (This frontend requires a controlling tty.)\n",
            "debconf: falling back to frontend: Teletype\n",
            "dpkg-preconfigure: unable to re-open stdin: \n",
            "Selecting previously unselected package fonts-droid-fallback.\n",
            "(Reading database ... 123475 files and directories currently installed.)\n",
            "Preparing to unpack .../00-fonts-droid-fallback_1%3a6.0.1r16-1.1build1_all.deb ...\n",
            "Unpacking fonts-droid-fallback (1:6.0.1r16-1.1build1) ...\n",
            "Selecting previously unselected package poppler-data.\n",
            "Preparing to unpack .../01-poppler-data_0.4.11-1_all.deb ...\n",
            "Unpacking poppler-data (0.4.11-1) ...\n",
            "Selecting previously unselected package fonts-noto-mono.\n",
            "Preparing to unpack .../02-fonts-noto-mono_20201225-1build1_all.deb ...\n",
            "Unpacking fonts-noto-mono (20201225-1build1) ...\n",
            "Selecting previously unselected package fonts-urw-base35.\n",
            "Preparing to unpack .../03-fonts-urw-base35_20200910-1_all.deb ...\n",
            "Unpacking fonts-urw-base35 (20200910-1) ...\n",
            "Selecting previously unselected package libgs9-common.\n",
            "Preparing to unpack .../04-libgs9-common_9.55.0~dfsg1-0ubuntu5.6_all.deb ...\n",
            "Unpacking libgs9-common (9.55.0~dfsg1-0ubuntu5.6) ...\n",
            "Selecting previously unselected package libidn12:amd64.\n",
            "Preparing to unpack .../05-libidn12_1.38-4ubuntu1_amd64.deb ...\n",
            "Unpacking libidn12:amd64 (1.38-4ubuntu1) ...\n",
            "Selecting previously unselected package libijs-0.35:amd64.\n",
            "Preparing to unpack .../06-libijs-0.35_0.35-15build2_amd64.deb ...\n",
            "Unpacking libijs-0.35:amd64 (0.35-15build2) ...\n",
            "Selecting previously unselected package libjbig2dec0:amd64.\n",
            "Preparing to unpack .../07-libjbig2dec0_0.19-3build2_amd64.deb ...\n",
            "Unpacking libjbig2dec0:amd64 (0.19-3build2) ...\n",
            "Selecting previously unselected package libgs9:amd64.\n",
            "Preparing to unpack .../08-libgs9_9.55.0~dfsg1-0ubuntu5.6_amd64.deb ...\n",
            "Unpacking libgs9:amd64 (9.55.0~dfsg1-0ubuntu5.6) ...\n",
            "Selecting previously unselected package ghostscript.\n",
            "Preparing to unpack .../09-ghostscript_9.55.0~dfsg1-0ubuntu5.6_amd64.deb ...\n",
            "Unpacking ghostscript (9.55.0~dfsg1-0ubuntu5.6) ...\n",
            "Selecting previously unselected package libbabl-0.1-0:amd64.\n",
            "Preparing to unpack .../10-libbabl-0.1-0_1%3a0.1.92-1_amd64.deb ...\n",
            "Unpacking libbabl-0.1-0:amd64 (1:0.1.92-1) ...\n",
            "Selecting previously unselected package libjson-glib-1.0-common.\n",
            "Preparing to unpack .../11-libjson-glib-1.0-common_1.6.6-1build1_all.deb ...\n",
            "Unpacking libjson-glib-1.0-common (1.6.6-1build1) ...\n",
            "Selecting previously unselected package libjson-glib-1.0-0:amd64.\n",
            "Preparing to unpack .../12-libjson-glib-1.0-0_1.6.6-1build1_amd64.deb ...\n",
            "Unpacking libjson-glib-1.0-0:amd64 (1.6.6-1build1) ...\n",
            "Selecting previously unselected package libpoppler-glib8:amd64.\n",
            "Preparing to unpack .../13-libpoppler-glib8_22.02.0-2ubuntu0.3_amd64.deb ...\n",
            "Unpacking libpoppler-glib8:amd64 (22.02.0-2ubuntu0.3) ...\n",
            "Selecting previously unselected package libraw20:amd64.\n",
            "Preparing to unpack .../14-libraw20_0.20.2-2ubuntu2.22.04.1_amd64.deb ...\n",
            "Unpacking libraw20:amd64 (0.20.2-2ubuntu2.22.04.1) ...\n",
            "Selecting previously unselected package libsuitesparseconfig5:amd64.\n",
            "Preparing to unpack .../15-libsuitesparseconfig5_1%3a5.10.1+dfsg-4build1_amd64.deb ...\n",
            "Unpacking libsuitesparseconfig5:amd64 (1:5.10.1+dfsg-4build1) ...\n",
            "Selecting previously unselected package libamd2:amd64.\n",
            "Preparing to unpack .../16-libamd2_1%3a5.10.1+dfsg-4build1_amd64.deb ...\n",
            "Unpacking libamd2:amd64 (1:5.10.1+dfsg-4build1) ...\n",
            "Selecting previously unselected package libcamd2:amd64.\n",
            "Preparing to unpack .../17-libcamd2_1%3a5.10.1+dfsg-4build1_amd64.deb ...\n",
            "Unpacking libcamd2:amd64 (1:5.10.1+dfsg-4build1) ...\n",
            "Selecting previously unselected package libccolamd2:amd64.\n",
            "Preparing to unpack .../18-libccolamd2_1%3a5.10.1+dfsg-4build1_amd64.deb ...\n",
            "Unpacking libccolamd2:amd64 (1:5.10.1+dfsg-4build1) ...\n",
            "Selecting previously unselected package libcolamd2:amd64.\n",
            "Preparing to unpack .../19-libcolamd2_1%3a5.10.1+dfsg-4build1_amd64.deb ...\n",
            "Unpacking libcolamd2:amd64 (1:5.10.1+dfsg-4build1) ...\n",
            "Selecting previously unselected package libmetis5:amd64.\n",
            "Preparing to unpack .../20-libmetis5_5.1.0.dfsg-7build2_amd64.deb ...\n",
            "Unpacking libmetis5:amd64 (5.1.0.dfsg-7build2) ...\n",
            "Selecting previously unselected package libcholmod3:amd64.\n",
            "Preparing to unpack .../21-libcholmod3_1%3a5.10.1+dfsg-4build1_amd64.deb ...\n",
            "Unpacking libcholmod3:amd64 (1:5.10.1+dfsg-4build1) ...\n",
            "Selecting previously unselected package libumfpack5:amd64.\n",
            "Preparing to unpack .../22-libumfpack5_1%3a5.10.1+dfsg-4build1_amd64.deb ...\n",
            "Unpacking libumfpack5:amd64 (1:5.10.1+dfsg-4build1) ...\n",
            "Selecting previously unselected package libgegl-common.\n",
            "Preparing to unpack .../23-libgegl-common_1%3a0.4.34-1build1_all.deb ...\n",
            "Unpacking libgegl-common (1:0.4.34-1build1) ...\n",
            "Selecting previously unselected package libgegl-0.4-0:amd64.\n",
            "Preparing to unpack .../24-libgegl-0.4-0_1%3a0.4.34-1build1_amd64.deb ...\n",
            "Unpacking libgegl-0.4-0:amd64 (1:0.4.34-1build1) ...\n",
            "Selecting previously unselected package libexiv2-27:amd64.\n",
            "Preparing to unpack .../25-libexiv2-27_0.27.5-3ubuntu1_amd64.deb ...\n",
            "Unpacking libexiv2-27:amd64 (0.27.5-3ubuntu1) ...\n",
            "Selecting previously unselected package libgexiv2-2:amd64.\n",
            "Preparing to unpack .../26-libgexiv2-2_0.14.0-1build1_amd64.deb ...\n",
            "Unpacking libgexiv2-2:amd64 (0.14.0-1build1) ...\n",
            "Selecting previously unselected package libgtk2.0-common.\n",
            "Preparing to unpack .../27-libgtk2.0-common_2.24.33-2ubuntu2_all.deb ...\n",
            "Unpacking libgtk2.0-common (2.24.33-2ubuntu2) ...\n",
            "Selecting previously unselected package libgtk2.0-0:amd64.\n",
            "Preparing to unpack .../28-libgtk2.0-0_2.24.33-2ubuntu2_amd64.deb ...\n",
            "Unpacking libgtk2.0-0:amd64 (2.24.33-2ubuntu2) ...\n",
            "Selecting previously unselected package libgimp2.0:amd64.\n",
            "Preparing to unpack .../29-libgimp2.0_2.10.30-1ubuntu0.1_amd64.deb ...\n",
            "Unpacking libgimp2.0:amd64 (2.10.30-1ubuntu0.1) ...\n",
            "Selecting previously unselected package gimp-data.\n",
            "Preparing to unpack .../30-gimp-data_2.10.30-1ubuntu0.1_all.deb ...\n",
            "Unpacking gimp-data (2.10.30-1ubuntu0.1) ...\n",
            "Selecting previously unselected package libaa1:amd64.\n",
            "Preparing to unpack .../31-libaa1_1.4p5-50build1_amd64.deb ...\n",
            "Unpacking libaa1:amd64 (1.4p5-50build1) ...\n",
            "Selecting previously unselected package libgudev-1.0-0:amd64.\n",
            "Preparing to unpack .../32-libgudev-1.0-0_1%3a237-2build1_amd64.deb ...\n",
            "Unpacking libgudev-1.0-0:amd64 (1:237-2build1) ...\n",
            "Selecting previously unselected package libmng2:amd64.\n",
            "Preparing to unpack .../33-libmng2_2.0.3+dfsg-3_amd64.deb ...\n",
            "Unpacking libmng2:amd64 (2.0.3+dfsg-3) ...\n",
            "Selecting previously unselected package libmypaint-common.\n",
            "Preparing to unpack .../34-libmypaint-common_1.6.0-2_all.deb ...\n",
            "Unpacking libmypaint-common (1.6.0-2) ...\n",
            "Selecting previously unselected package libmypaint-1.5-1:amd64.\n",
            "Preparing to unpack .../35-libmypaint-1.5-1_1.6.0-2_amd64.deb ...\n",
            "Unpacking libmypaint-1.5-1:amd64 (1.6.0-2) ...\n",
            "Selecting previously unselected package libwmflite-0.2-7:amd64.\n",
            "Preparing to unpack .../36-libwmflite-0.2-7_0.2.12-5ubuntu1_amd64.deb ...\n",
            "Unpacking libwmflite-0.2-7:amd64 (0.2.12-5ubuntu1) ...\n",
            "Selecting previously unselected package libwmf-0.2-7:amd64.\n",
            "Preparing to unpack .../37-libwmf-0.2-7_0.2.12-5ubuntu1_amd64.deb ...\n",
            "Unpacking libwmf-0.2-7:amd64 (0.2.12-5ubuntu1) ...\n",
            "Selecting previously unselected package gimp.\n",
            "Preparing to unpack .../38-gimp_2.10.30-1ubuntu0.1_amd64.deb ...\n",
            "Unpacking gimp (2.10.30-1ubuntu0.1) ...\n",
            "Selecting previously unselected package libgail18:amd64.\n",
            "Preparing to unpack .../39-libgail18_2.24.33-2ubuntu2_amd64.deb ...\n",
            "Unpacking libgail18:amd64 (2.24.33-2ubuntu2) ...\n",
            "Selecting previously unselected package libgail-common:amd64.\n",
            "Preparing to unpack .../40-libgail-common_2.24.33-2ubuntu2_amd64.deb ...\n",
            "Unpacking libgail-common:amd64 (2.24.33-2ubuntu2) ...\n",
            "Selecting previously unselected package libgtk2.0-bin.\n",
            "Preparing to unpack .../41-libgtk2.0-bin_2.24.33-2ubuntu2_amd64.deb ...\n",
            "Unpacking libgtk2.0-bin (2.24.33-2ubuntu2) ...\n",
            "Selecting previously unselected package librsvg2-common:amd64.\n",
            "Preparing to unpack .../42-librsvg2-common_2.52.5+dfsg-3ubuntu0.2_amd64.deb ...\n",
            "Unpacking librsvg2-common:amd64 (2.52.5+dfsg-3ubuntu0.2) ...\n",
            "Setting up libmng2:amd64 (2.0.3+dfsg-3) ...\n",
            "Setting up libpoppler-glib8:amd64 (22.02.0-2ubuntu0.3) ...\n",
            "Setting up fonts-noto-mono (20201225-1build1) ...\n",
            "Setting up libwmflite-0.2-7:amd64 (0.2.12-5ubuntu1) ...\n",
            "Setting up libmypaint-common (1.6.0-2) ...\n",
            "Setting up libijs-0.35:amd64 (0.35-15build2) ...\n",
            "Setting up libbabl-0.1-0:amd64 (1:0.1.92-1) ...\n",
            "Setting up libmetis5:amd64 (5.1.0.dfsg-7build2) ...\n",
            "Setting up fonts-urw-base35 (20200910-1) ...\n",
            "Setting up libmypaint-1.5-1:amd64 (1.6.0-2) ...\n",
            "Setting up poppler-data (0.4.11-1) ...\n",
            "Setting up libexiv2-27:amd64 (0.27.5-3ubuntu1) ...\n",
            "Setting up libwmf-0.2-7:amd64 (0.2.12-5ubuntu1) ...\n",
            "Setting up libjbig2dec0:amd64 (0.19-3build2) ...\n",
            "Setting up libidn12:amd64 (1.38-4ubuntu1) ...\n",
            "Setting up librsvg2-common:amd64 (2.52.5+dfsg-3ubuntu0.2) ...\n",
            "Setting up libraw20:amd64 (0.20.2-2ubuntu2.22.04.1) ...\n",
            "Setting up gimp-data (2.10.30-1ubuntu0.1) ...\n",
            "Setting up libgegl-common (1:0.4.34-1build1) ...\n",
            "Setting up libjson-glib-1.0-common (1.6.6-1build1) ...\n",
            "Setting up libgtk2.0-common (2.24.33-2ubuntu2) ...\n",
            "Setting up fonts-droid-fallback (1:6.0.1r16-1.1build1) ...\n",
            "Setting up libgexiv2-2:amd64 (0.14.0-1build1) ...\n",
            "Setting up libsuitesparseconfig5:amd64 (1:5.10.1+dfsg-4build1) ...\n",
            "Setting up libgudev-1.0-0:amd64 (1:237-2build1) ...\n",
            "Setting up libaa1:amd64 (1.4p5-50build1) ...\n",
            "Setting up libgs9-common (9.55.0~dfsg1-0ubuntu5.6) ...\n",
            "Setting up libamd2:amd64 (1:5.10.1+dfsg-4build1) ...\n",
            "Setting up libcolamd2:amd64 (1:5.10.1+dfsg-4build1) ...\n",
            "Setting up libgs9:amd64 (9.55.0~dfsg1-0ubuntu5.6) ...\n",
            "Setting up libgtk2.0-0:amd64 (2.24.33-2ubuntu2) ...\n",
            "Setting up ghostscript (9.55.0~dfsg1-0ubuntu5.6) ...\n",
            "Setting up libjson-glib-1.0-0:amd64 (1.6.6-1build1) ...\n",
            "Setting up libcamd2:amd64 (1:5.10.1+dfsg-4build1) ...\n",
            "Setting up libgail18:amd64 (2.24.33-2ubuntu2) ...\n",
            "Setting up libgtk2.0-bin (2.24.33-2ubuntu2) ...\n",
            "Setting up libccolamd2:amd64 (1:5.10.1+dfsg-4build1) ...\n",
            "Setting up libcholmod3:amd64 (1:5.10.1+dfsg-4build1) ...\n",
            "Setting up libgail-common:amd64 (2.24.33-2ubuntu2) ...\n",
            "Setting up libumfpack5:amd64 (1:5.10.1+dfsg-4build1) ...\n",
            "Setting up libgegl-0.4-0:amd64 (1:0.4.34-1build1) ...\n",
            "Setting up libgimp2.0:amd64 (2.10.30-1ubuntu0.1) ...\n",
            "Setting up gimp (2.10.30-1ubuntu0.1) ...\n",
            "Processing triggers for hicolor-icon-theme (0.17-2) ...\n",
            "Processing triggers for libc-bin (2.35-0ubuntu3.4) ...\n",
            "/sbin/ldconfig.real: /usr/local/lib/libtbbmalloc_proxy.so.2 is not a symbolic link\n",
            "\n",
            "/sbin/ldconfig.real: /usr/local/lib/libtbb.so.12 is not a symbolic link\n",
            "\n",
            "/sbin/ldconfig.real: /usr/local/lib/libtbbmalloc.so.2 is not a symbolic link\n",
            "\n",
            "/sbin/ldconfig.real: /usr/local/lib/libtbbbind_2_5.so.3 is not a symbolic link\n",
            "\n",
            "/sbin/ldconfig.real: /usr/local/lib/libtbbbind_2_0.so.3 is not a symbolic link\n",
            "\n",
            "/sbin/ldconfig.real: /usr/local/lib/libtbbbind.so.3 is not a symbolic link\n",
            "\n",
            "Processing triggers for man-db (2.10.2-1) ...\n",
            "Processing triggers for libgdk-pixbuf-2.0-0:amd64 (2.42.8+dfsg-1ubuntu0.2) ...\n",
            "Processing triggers for fontconfig (2.13.1-4.2ubuntu5) ...\n"
          ]
        }
      ]
    },
    {
      "cell_type": "markdown",
      "source": [
        "Удаление пакета"
      ],
      "metadata": {
        "id": "jFazm4FW4Pf0"
      }
    },
    {
      "cell_type": "code",
      "source": [
        "!sudo apt remove gimp"
      ],
      "metadata": {
        "id": "JgCwUb-uBNNk",
        "colab": {
          "base_uri": "https://localhost:8080/"
        },
        "outputId": "fd9e2eb7-5160-40a8-ea0b-3e48b895b8fc"
      },
      "execution_count": 33,
      "outputs": [
        {
          "output_type": "stream",
          "name": "stdout",
          "text": [
            "Reading package lists... Done\n",
            "Building dependency tree... Done\n",
            "Reading state information... Done\n",
            "The following packages were automatically installed and are no longer required:\n",
            "  fonts-droid-fallback fonts-noto-mono ghostscript gimp-data libaa1 libamd2\n",
            "  libbabl-0.1-0 libcamd2 libccolamd2 libcholmod3 libcolamd2 libexiv2-27\n",
            "  libgail-common libgail18 libgegl-0.4-0 libgegl-common libgexiv2-2 libgimp2.0\n",
            "  libgs9 libgs9-common libgtk2.0-0 libgtk2.0-bin libgtk2.0-common\n",
            "  libgudev-1.0-0 libidn12 libijs-0.35 libjbig2dec0 libjson-glib-1.0-0\n",
            "  libjson-glib-1.0-common libmetis5 libmng2 libmypaint-1.5-1 libmypaint-common\n",
            "  libpoppler-glib8 libraw20 libsuitesparseconfig5 libumfpack5 libwmf-0.2-7\n",
            "  libwmflite-0.2-7\n",
            "Use 'sudo apt autoremove' to remove them.\n",
            "The following packages will be REMOVED:\n",
            "  gimp\n",
            "0 upgraded, 0 newly installed, 1 to remove and 37 not upgraded.\n",
            "After this operation, 20.7 MB disk space will be freed.\n",
            "(Reading database ... 129475 files and directories currently installed.)\n",
            "Removing gimp (2.10.30-1ubuntu0.1) ...\n",
            "Processing triggers for man-db (2.10.2-1) ...\n"
          ]
        }
      ]
    },
    {
      "cell_type": "markdown",
      "source": [
        "Сохранение истории"
      ],
      "metadata": {
        "id": "OfT_bHKx4ULU"
      }
    },
    {
      "cell_type": "code",
      "source": [
        "!history > my_history.txt"
      ],
      "metadata": {
        "id": "hircs_w2BOy8"
      },
      "execution_count": 34,
      "outputs": []
    },
    {
      "cell_type": "markdown",
      "source": [
        "Выгрузка Истории"
      ],
      "metadata": {
        "id": "AuJUgoQU4ZOv"
      }
    },
    {
      "cell_type": "code",
      "source": [
        "!cat my_history.txt"
      ],
      "metadata": {
        "id": "WteEd2fYBQn9"
      },
      "execution_count": 35,
      "outputs": []
    }
  ]
}